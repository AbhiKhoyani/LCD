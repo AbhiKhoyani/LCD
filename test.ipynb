{
 "cells": [
  {
   "attachments": {},
   "cell_type": "markdown",
   "metadata": {},
   "source": [
    "# Installing Dependencies"
   ]
  },
  {
   "cell_type": "code",
   "execution_count": 1,
   "metadata": {},
   "outputs": [],
   "source": [
    "import scipy.io\n",
    "import numpy as np\n",
    "import matplotlib.pyplot as plt\n",
    "import matplotlib.image as mpimg\n",
    "from os.path import join as opj\n",
    "import os\n",
    "import sys\n",
    "import time\n",
    "import wandb\n",
    "from tqdm import tqdm\n",
    "import matplotlib.animation as animation\n",
    "from PIL import Image\n",
    "from matplotlib import rc\n",
    "from scipy.sparse import coo_matrix\n",
    "rc('animation', html='jshtml')"
   ]
  },
  {
   "cell_type": "code",
   "execution_count": 2,
   "metadata": {},
   "outputs": [],
   "source": [
    "import torch\n",
    "import torch.nn.functional as F\n",
    "from torch_geometric.data import Data\n",
    "from torch_geometric.data import makedirs, extract_zip\n",
    "# from torchvision.datasets import VisionDataset\n",
    "from torchvision import transforms\n",
    "\n",
    "from torch.utils.data import default_collate\n",
    "import networkx as nx\n",
    "\n",
    "device = torch.device('cuda' if torch.cuda.is_available() else 'cpu')"
   ]
  },
  {
   "cell_type": "code",
   "execution_count": 3,
   "metadata": {},
   "outputs": [],
   "source": [
    "def dense_edge(edge_index, data = None):\n",
    "    assert edge_index.ndim ==2\n",
    "    assert edge_index.shape[0] == 2\n",
    "\n",
    "    if data is None:\n",
    "        data = np.ones(u.shape, dtype=np.int8)\n",
    "    u, v = edge_index\n",
    "    n = len(np.unique(u)) + 1\n",
    "    m = coo_matrix((data, (u, v)), shape  = (n,n))\n",
    "    return m.toarray()"
   ]
  },
  {
   "attachments": {},
   "cell_type": "markdown",
   "metadata": {},
   "source": [
    "# Dataset \n",
    "Skip this section"
   ]
  },
  {
   "cell_type": "code",
   "execution_count": null,
   "metadata": {},
   "outputs": [],
   "source": [
    "class LCDDataset(Dataset):\n",
    "    '''\n",
    "      loading all images and corresponding_matrix for the specific dataset based on its name.\n",
    "      dataset_name:\n",
    "        1. CC_orig\n",
    "        2. NC_orig\n",
    "        3. CC_reduced\n",
    "        4. NC_reduced\n",
    "        5. KITTY_00\n",
    "        6. KITTY_05\n",
    "        7. KAIST_NORTH\n",
    "        8. KAIST_EAST\n",
    "        9. KAIST_WEST\n",
    "      '''\n",
    "    def __init__(self, dataset_name, root_dir = './Datasets' , URL = './Datasets',\n",
    "                 transform=None, pre_transform=None, pre_filter=None):\n",
    "        '''\n",
    "        Input params: \n",
    "              dataset_name = supported dataset, as mentioned above\n",
    "              root_dir = path to create dataset\n",
    "              URL = where all .zip file is saved\n",
    "        '''\n",
    "        \n",
    "        \n",
    "        all_dataset = ['CC_orig', 'NC_orig', 'CC_reduced', 'NC_reduced', 'KITTY_00', 'KITTY_05',\n",
    "                    'KAIST_NORTH','KAIST_EAST','KAIST_WEST']\n",
    "        assert dataset_name in all_dataset, \"\"\"Supported dataset are ['CC_orig', 'NC_orig', 'CC_reduced', 'NC_reduced', 'KITTY_00', 'KITTY_05',\n",
    "                                                'KAIST_NORTH','KAIST_EAST','KAIST_WEST']\"\"\"\n",
    "\n",
    "        assert os.path.isdir(URL), \"Invalid BASE_DIR provided\"\n",
    "        \n",
    "        self.dataset = dataset_name\n",
    "        self.url = URL\n",
    "        self.root = os.path.join(root_dir, self.dataset) \n",
    "        \n",
    "\n",
    "\n",
    "        # if self.download.__qualname__.split('.')[0] != 'Dataset':\n",
    "        if not os.path.isdir(self.raw_dir):\n",
    "            print('Downloading Dataset....')\n",
    "            makedirs(self.raw_dir)\n",
    "            self.download()\n",
    "        \n",
    "        self.gt = scipy.io.loadmat(os.path.join(self.root, 'gt.mat'))['truth']\n",
    "        \n",
    "        \n",
    "\n",
    "    @property\n",
    "    def raw_dir(self) -> str:\n",
    "        return os.path.join(super().raw_dir, 'Image')\n",
    "\n",
    "    @property\n",
    "    def naming_digits(self) -> int:\n",
    "        return len(os.path.splitext(os.listdir(self.raw_dir)[0])[0])\n",
    "\n",
    "    @property\n",
    "    def file_ext(self) -> str:\n",
    "        return os.path.splitext(os.listdir(self.raw_dir)[0])[1]\n",
    "\n",
    "    @property\n",
    "    def raw_file_names(self):\n",
    "        return [format(i, f'0{self.naming_digits}d')+self.file_ext for i in range(self.__len__())]\n",
    "\n",
    "    \n",
    "    def process(self):\n",
    "        self.gt = self.gt + self.gt.T - np.identity(self.__len__()) \n",
    "        u, v  = np.where(self.gt != 0)\n",
    "        \n",
    "        # for \n",
    "        # idx = 0\n",
    "        # for raw_path in self.raw_paths:\n",
    "        #     # Read data from `raw_path`.\n",
    "        #     data = Data(...)\n",
    "\n",
    "        #     if self.pre_filter is not None and not self.pre_filter(data):\n",
    "        #         continue\n",
    "\n",
    "        #     if self.pre_transform is not None:\n",
    "        #         data = self.pre_transform(data)\n",
    "\n",
    "        #     torch.save(data, osp.join(self.processed_dir, f'data_{idx}.pt'))\n",
    "        #     idx += 1\n",
    "\n",
    "    def download(self):\n",
    "        '''\n",
    "        Downloading dataset\n",
    "        '''\n",
    "        ! unzip -u -q {os.path.join(self.url, self.dataset+'.zip')} -d ./{os.path.join(self.root)}\n",
    "        ! unzip -u -q {os.path.join(self.root, 'Image.zip')} -d ./{os.path.join(self.root, 'raw')}\n",
    "        \n",
    "\n",
    "    def __len__(self):\n",
    "        return len(os.listdir(self.raw_dir))\n",
    "\n",
    "    def get(self, idx):\n",
    "        # data = torch.load(os.path.join(self.raw_dir, f'data_{idx}.pt'))\n",
    "        img_path = os.path.join(self.raw_dir, self.raw_file_names[idx])\n",
    "        # data = Image.read(img_path)\n",
    "        return img_path"
   ]
  },
  {
   "cell_type": "code",
   "execution_count": null,
   "metadata": {},
   "outputs": [],
   "source": [
    "dataset = LCDDataset('NC_reduced')\n",
    "xx = []\n",
    "for i in dataset.raw_file_names:\n",
    "    xx.append(transforms.ToTensor()(Image.open(dataset.get(i))))\n",
    "\n",
    "u, v = np.where(dataset.gt!=0)\n",
    "edge = torch.tensor(np.array([u,v]), dtype = torch.long)\n",
    "g = Data(default_collate(xx), edge_index=edge)"
   ]
  },
  {
   "cell_type": "code",
   "execution_count": null,
   "metadata": {},
   "outputs": [],
   "source": [
    "dataset.get(1)"
   ]
  },
  {
   "cell_type": "code",
   "execution_count": null,
   "metadata": {},
   "outputs": [],
   "source": [
    "# dataset.naming_digits\n",
    "# dataset.raw_file_names\n",
    "# dataset.get(1)"
   ]
  },
  {
   "cell_type": "code",
   "execution_count": null,
   "metadata": {},
   "outputs": [],
   "source": [
    "# from torch_geometric.utils import to_networkx\n",
    "# gmap = to_networkx(g, to_undirected=True)\n",
    "# nx.draw(gmap)"
   ]
  },
  {
   "cell_type": "code",
   "execution_count": null,
   "metadata": {},
   "outputs": [],
   "source": [
    "plt.imshow(dataset.gt)"
   ]
  },
  {
   "cell_type": "code",
   "execution_count": null,
   "metadata": {},
   "outputs": [],
   "source": [
    "gtt = dataset.gt + dataset.gt.T - np.identity(len(dataset.gt))\n",
    "plt.imshow(gtt)"
   ]
  },
  {
   "attachments": {},
   "cell_type": "markdown",
   "metadata": {},
   "source": [
    "# Data -> Graph"
   ]
  },
  {
   "cell_type": "code",
   "execution_count": null,
   "metadata": {},
   "outputs": [],
   "source": [
    "from torch_geometric.data import Data\n",
    "import torch_geometric.transforms as T"
   ]
  },
  {
   "cell_type": "code",
   "execution_count": null,
   "metadata": {},
   "outputs": [],
   "source": [
    "dataset_path = './Datasets/NC_reduced/'\n",
    "image_path = os.path.join(dataset_path, 'Image', 'Image')\n",
    "gt = scipy.io.loadmat(os.path.join(dataset_path, 'gt.mat'))['truth']\n",
    "gt = gt + gt.T - np.eye(len(gt))"
   ]
  },
  {
   "attachments": {},
   "cell_type": "markdown",
   "metadata": {},
   "source": [
    "create the class based on the Data and add the load_node method that adds new nodes in the graph with neighbours."
   ]
  },
  {
   "cell_type": "code",
   "execution_count": null,
   "metadata": {},
   "outputs": [],
   "source": [
    "customGraph = None\n",
    "del customGraph\n",
    "from model import customGraph"
   ]
  },
  {
   "cell_type": "code",
   "execution_count": null,
   "metadata": {},
   "outputs": [],
   "source": [
    "dd = customGraph()\n",
    "dd.add_node(torch.randn((1,5,5)))\n",
    "dd.add_node(torch.randn((1,5,5)), [1], torch.randn((1,1)))\n",
    "dd.add_node(torch.randn((1,5,5)))\n",
    "dd.add_node(torch.randn((1,5,5)), [1,2], torch.randn((2,1)))"
   ]
  },
  {
   "cell_type": "code",
   "execution_count": null,
   "metadata": {},
   "outputs": [],
   "source": [
    "dd.has_isolated_nodes()\n",
    "# torch.cat((self.edge_index, edge_index), dim = -1)\n",
    "# torch.cat((torch.randint(0,2,(2,3)), dd.edge_index), dim = -1)"
   ]
  },
  {
   "cell_type": "code",
   "execution_count": null,
   "metadata": {},
   "outputs": [],
   "source": [
    "if dd.edge_index:\n",
    "    print('xx')"
   ]
  },
  {
   "cell_type": "code",
   "execution_count": null,
   "metadata": {},
   "outputs": [],
   "source": [
    "dd.edge_index"
   ]
  },
  {
   "cell_type": "code",
   "execution_count": null,
   "metadata": {},
   "outputs": [],
   "source": [
    "n = dd.num_nodes\n",
    "n"
   ]
  },
  {
   "cell_type": "code",
   "execution_count": null,
   "metadata": {},
   "outputs": [],
   "source": [
    "data = Data()\n",
    "data.node_id = torch.arange(len(gt))\n",
    "temp = np.tril(np.ones((data.num_nodes, data.num_nodes)), k = -1)\n",
    "u, v = np.where(temp!=0)\n",
    "data.edge_index = torch.tensor(np.array([u,v]), dtype = torch.long)\n",
    "# data.edge_attr = torch.tensor(np.expand_dims(gt.flatten(),-1))\n",
    "data.edge_attr = torch.tensor(np.expand_dims(gt[np.tril_indices_from(gt, k=-1)],-1))\n",
    "\n",
    "xx = []\n",
    "for i in sorted(os.listdir(image_path)):\n",
    "    xx.append(transforms.ToTensor()(Image.open(os.path.join(image_path, i))))\n",
    "\n",
    "data.x = default_collate(xx)\n",
    "data['time'] = torch.arange(data.num_nodes)\n",
    "# data = T.ToUndirected()(data)\n",
    "data"
   ]
  },
  {
   "cell_type": "code",
   "execution_count": null,
   "metadata": {},
   "outputs": [],
   "source": []
  },
  {
   "cell_type": "code",
   "execution_count": null,
   "metadata": {},
   "outputs": [],
   "source": [
    "# data.add_node(torch.randn(1,3,480,640), [1,2,3])\n",
    "# data.num_nodes\n",
    "# torch.argwhere(data.edge_index == torch.tensor([[395],[1]]))"
   ]
  },
  {
   "cell_type": "code",
   "execution_count": null,
   "metadata": {},
   "outputs": [],
   "source": [
    "(data.edge_index == torch.tensor([[395],[1]]))"
   ]
  },
  {
   "cell_type": "code",
   "execution_count": null,
   "metadata": {},
   "outputs": [],
   "source": [
    "# xx = data.x\n",
    "# new = torch.randn((1,3,480,640))\n",
    "# data.node_id.append(394)\n",
    "e = data.node_id[:10] < 5 \n",
    "assert e.all()"
   ]
  },
  {
   "cell_type": "code",
   "execution_count": null,
   "metadata": {},
   "outputs": [],
   "source": [
    "# u = [5]*len(e)\n",
    "# tt = torch.tensor([u,e])\n",
    "# print(torch.cat((data.edge_index, tt), dim = 1).shape)\n",
    "# print(data.edge_index.shape)\n",
    "# type([1])\n",
    "OptTensor"
   ]
  },
  {
   "cell_type": "code",
   "execution_count": null,
   "metadata": {},
   "outputs": [],
   "source": [
    "# plt.imshow(data.x[0].cpu().numpy())\n",
    "plt.imshow(data.x[0].detach().cpu().permute(1,2,0).numpy())"
   ]
  },
  {
   "cell_type": "code",
   "execution_count": null,
   "metadata": {},
   "outputs": [],
   "source": []
  },
  {
   "cell_type": "code",
   "execution_count": null,
   "metadata": {},
   "outputs": [],
   "source": []
  },
  {
   "attachments": {},
   "cell_type": "markdown",
   "metadata": {},
   "source": [
    "# Model"
   ]
  },
  {
   "cell_type": "code",
   "execution_count": null,
   "metadata": {},
   "outputs": [],
   "source": [
    "from torchvision.models import resnet50\n",
    "from torchvision import transforms, utils\n",
    "from torch_geometric.nn import MessagePassing, GAE\n",
    "from torchvision.models.feature_extraction import get_graph_node_names\n",
    "from torchvision.models.feature_extraction import create_feature_extractor"
   ]
  },
  {
   "cell_type": "code",
   "execution_count": null,
   "metadata": {},
   "outputs": [],
   "source": [
    "from enum import Enum\n",
    "\"\"\"['AlexNet', \"ConvNext\", \"DenseNet\", \"EfficientNet\", \"EfficientNetV2\",\n",
    "                        \"GoogLeNet\", \"InceptionV3\", \"MaxVit\", \"MNASNet\", \"MobileNetV2\", \"MobileNetV3\",\n",
    "                        \"RegNet\", \"ResNet\", \"ResNeXt\", \"ShuffleNetV2\", \"SqueezeNet\",\n",
    "                        \"SWINTx\", \"VGG\", \"ViT\", \"WideResNet\"]\"\"\"\n",
    "\n",
    "class MODELS:\n",
    "    \n",
    "    def load_model(self, name):\n",
    "        default = None\n",
    "        return getattr(self, name.lower(), lambda: default)()\n",
    "\n",
    "    def alexnet(self):\n",
    "        from torchvision.models import AlexNet\n",
    "        return AlexNet(weights = 'DEFAULT')\n",
    "\n",
    "    def convnext(self):\n",
    "        from torchvision.models import ConvNeXt\n",
    "        return ConvNeXt(weights = 'DEFAULT')\n",
    "\n",
    "    def densenet(self):\n",
    "        from torchvision.models import DenseNet\n",
    "        return DenseNet(weights = 'DEFAULT')\n",
    "\n",
    "    def efficientnet(self):\n",
    "        from torchvision.models import EfficientNet\n",
    "        return EfficientNet(weights = 'DEFAULT')\n",
    "\n",
    "    def efficientnetv2(self):\n",
    "        from torchvision.models import efficientnet_v2_l\n",
    "        return efficientnet_v2_l(weights = 'DEFAULT')\n",
    "\n",
    "    def googlenet(self):\n",
    "        from torchvision.models import GoogLeNet\n",
    "        return GoogLeNet(weights = 'DEFAULT')\n",
    "\n",
    "    def inceptionv3(self):\n",
    "        from torchvision.models import Inception3\n",
    "        return Inception3(weights = 'DEFAULT')\n",
    "\n",
    "    def maxvit(self):\n",
    "        from torchvision.models import MaxVit\n",
    "        return MaxVit(weights = 'DEFAULT')\n",
    "\n",
    "    def mnasnet(self):\n",
    "        from torchvision.models import MNASNet\n",
    "        return MNASNet(weights = 'DEFAULT')\n",
    "\n",
    "    def mobilenetv2(self):\n",
    "        from torchvision.models import MobileNetV2\n",
    "        return MobileNetV2(weights = 'DEFAULT')\n",
    "\n",
    "    def mobilenetv3(self):\n",
    "        from torchvision.models import MobileNetV3\n",
    "        return MobileNetV3(weights = 'DEFAULT')\n",
    "\n",
    "    def regnet(self):\n",
    "        from torchvision.models import RegNet\n",
    "        return RegNet(weights = 'DEFAULT')\n",
    "    \n",
    "    def resnet(self):\n",
    "        from torchvision.models import resnet50\n",
    "        return resnet50(weights = 'IMAGENET1K_V2')\n",
    "        \n",
    "    def resnext(self):\n",
    "        from torchvision.models import resnext50_32x4d\n",
    "        return resnext50_32x4d(weights = 'DEFAULT')\n",
    "\n",
    "    def shufflenetv2(self):\n",
    "        from torchvision.models import ShuffleNetV2\n",
    "        return ShuffleNetV2(weights = 'DEFAULT')\n",
    "\n",
    "    def squeezenet(self):\n",
    "        from torchvision.models import SqueezeNet\n",
    "        return SqueezeNet(weights = 'DEFAULT')\n",
    "\n",
    "    def swintx(self):\n",
    "        from torchvision.models import SwinTransformer\n",
    "        return SwinTransformer(weights = 'DEFAULT')\n",
    "\n",
    "    def vgg(self):\n",
    "        from torchvision.models import vgg19\n",
    "        return vgg19(weights = 'DEFAULT')\n",
    "\n",
    "    def vit(self):\n",
    "        from torchvision.models import VisionTransformer\n",
    "        return VisionTransformer(weights = 'DEFAULT')\n",
    "\n",
    "    def wideresnet(self):\n",
    "        from torchvision.models import wide_resnet50_2\n",
    "        return wide_resnet50_2(weights = 'DEFAULT')"
   ]
  },
  {
   "cell_type": "code",
   "execution_count": null,
   "metadata": {},
   "outputs": [],
   "source": [
    "class FeatureExtractor(torch.nn.Module):\n",
    "    '''\n",
    "    Feature Extractor class\n",
    "    '''\n",
    "    def __init__(self) -> None:\n",
    "        super().__init__()\n",
    "        #Feature extractor \n",
    "        self.fx_base = resnet50(weights = 'IMAGENET1K_V2')       #feature extractor model\n",
    "        for param in self.fx_base.parameters():\n",
    "            param.requires_grad = False   #so that with torch.no_grad is not required\n",
    "        self.fx_required = {'flatten':'flatten'}        #required layers from all the get_graph_node_names(m)\n",
    "        self.fx = create_feature_extractor(self.fx_base, return_nodes=self.fx_required)       #last dense layer\n",
    "\n",
    "    def forward(self, x):\n",
    "        return self.fx(x)['flatten']\n",
    "\n",
    "class Matcher(torch.nn.Module):\n",
    "    '''\n",
    "    Feature matcher class to compute similarity of given two node feature\n",
    "    '''    \n",
    "    def forward(self, n1, n2, edge_index = None):\n",
    "        # n1 = n1[edge_index[0]]\n",
    "        # n2 = n2[edge_index[1]]\n",
    "        return (n1 @ n2.t()) / (torch.norm(n1, dim =-1).unsqueeze(-1) @ torch.norm(n2, dim =-1).unsqueeze(-1).t())\n",
    "\n",
    "# fx = FeatureExtractor()\n",
    "# mx = Matcher()\n",
    "# gae = GAE(fx)\n",
    "\n",
    "class LoopClosureDetector(torch.nn.Module):\n",
    "    '''\n",
    "    LCD base model for extracting features of the node image & then calculating matching criteria to\n",
    "    predict edge between two nodes.\n",
    "    '''\n",
    "    def __init__(self, FX, MX) -> None:\n",
    "        super().__init__()  \n",
    "        self.fx = FX()\n",
    "        self.mx = MX()\n",
    "\n",
    "    def forward(self, x, n):\n",
    "        # x has shape [N, in_channels], N = total number of nodes in a graph\n",
    "        # n \\belongs to N, some specific nodes  \n",
    "        # edge_index has shape [2, E]\n",
    "        # introduce another variable and then make the comparision bewteen them\n",
    "        # 1st -> graph nodes, 2nd-> another graph nodes or indiviudal image to add in graph\n",
    "        x = self.fx(x)\n",
    "        n = self.fx(n)\n",
    "        pred = self.mx(x, n)\n",
    "        return pred\n",
    "    \n"
   ]
  },
  {
   "cell_type": "code",
   "execution_count": null,
   "metadata": {},
   "outputs": [],
   "source": [
    "m = LoopClosureDetector(FeatureExtractor, Matcher)"
   ]
  },
  {
   "cell_type": "code",
   "execution_count": null,
   "metadata": {},
   "outputs": [],
   "source": [
    "data.x[:2].shape"
   ]
  },
  {
   "cell_type": "code",
   "execution_count": null,
   "metadata": {},
   "outputs": [],
   "source": [
    "# m = m.cpu()\n",
    "res = m(data.x[:2], data.x[3:6]) #1m22.5s"
   ]
  },
  {
   "cell_type": "code",
   "execution_count": null,
   "metadata": {},
   "outputs": [],
   "source": [
    "plt.imshow(res)"
   ]
  },
  {
   "cell_type": "code",
   "execution_count": null,
   "metadata": {},
   "outputs": [],
   "source": [
    "\n",
    "# data = data.to(device)\n",
    "m = m.to(device).eval()"
   ]
  },
  {
   "attachments": {},
   "cell_type": "markdown",
   "metadata": {},
   "source": [
    "# DataLoader"
   ]
  },
  {
   "cell_type": "code",
   "execution_count": null,
   "metadata": {},
   "outputs": [],
   "source": [
    "from torch_geometric.loader import DataLoader, LinkNeighborLoader, NodeLoader, NeighborLoader\n",
    "from torch_geometric.loader import RandomNodeLoader\n",
    "from torch_geometric.sampler.base import NodeSamplerInput\n"
   ]
  },
  {
   "cell_type": "code",
   "execution_count": null,
   "metadata": {},
   "outputs": [],
   "source": [
    "# data_loader = NodeLoader([data], batch_size = 32)\n",
    "# node_loader = LinkNeighborLoader(data, [10], batch_size = 10 )\n",
    "node_loader = NeighborLoader(data, [10], batch_size = 10 )\n",
    "\n",
    "# for time constraint sampling\n",
    "# node_loader = LinkNeighborLoader(data, [-1], batch_size = 1, time_attr='time', \n",
    "#                                     edge_label_time=torch.arange(data.edge_index.shape[1]))\n"
   ]
  },
  {
   "cell_type": "code",
   "execution_count": null,
   "metadata": {},
   "outputs": [],
   "source": [
    "dd = next(iter(node_loader))\n",
    "print(dd.input_id)\n",
    "print(dd.node_id)\n",
    "# print(dd.edge_label_index)\n",
    "print(dd.edge_index)\n",
    "dd"
   ]
  },
  {
   "cell_type": "code",
   "execution_count": null,
   "metadata": {},
   "outputs": [],
   "source": [
    "ssource = dd.x[dd.edge_index[0, :]].to(device)\n",
    "ddest = dd.x[dd.edge_index[1,:]].to(device)\n",
    "m(ssource, ddest)"
   ]
  },
  {
   "cell_type": "code",
   "execution_count": null,
   "metadata": {},
   "outputs": [],
   "source": [
    "# dd.x[dd.edge_index[1]].shape\n",
    "len(node_loader)"
   ]
  },
  {
   "cell_type": "code",
   "execution_count": null,
   "metadata": {},
   "outputs": [],
   "source": [
    "# dd.edge_index\n",
    "# dd.edge_label_index\n",
    "len(node_loader)"
   ]
  },
  {
   "cell_type": "code",
   "execution_count": null,
   "metadata": {},
   "outputs": [],
   "source": []
  },
  {
   "cell_type": "code",
   "execution_count": null,
   "metadata": {},
   "outputs": [],
   "source": [
    "pred = np.zeros((data.num_nodes, data.num_nodes))\n",
    "m = m.to(device)\n",
    "for batch in tqdm.tqdm(node_loader):\n",
    "    with torch.no_grad():\n",
    "        batch = batch.to(device)\n",
    "        source = batch.node_id[batch.edge_index[0]]\n",
    "        dest = batch.node_id[batch.edge_index[1]]\n",
    "        p = m(batch.x[batch.edge_index[0]], batch.x[batch.edge_index[1]])\n",
    "        u,v = source.detach().cpu().numpy(), dest.detach().cpu().numpy()\n",
    "        temp = np.stack(np.meshgrid(u,v), -1).reshape(-1,2)\n",
    "        u, v = temp[:,0], temp[:,1]\n",
    "        pred[(u,v)] = p.detach().cpu().numpy().flatten()\n",
    "        \n"
   ]
  },
  {
   "cell_type": "code",
   "execution_count": null,
   "metadata": {},
   "outputs": [],
   "source": [
    "plt.imshow(pred)"
   ]
  },
  {
   "cell_type": "code",
   "execution_count": null,
   "metadata": {},
   "outputs": [],
   "source": [
    "index = np.tril_indices_from(pred, k=-1)\n",
    "_pred = pred[index]\n",
    "_gt = data.edge_attr.flatten()"
   ]
  },
  {
   "cell_type": "code",
   "execution_count": null,
   "metadata": {},
   "outputs": [],
   "source": [
    "from sklearn.metrics import PrecisionRecallDisplay, precision_recall_curve\n",
    "\n",
    "precision, recall, _ = precision_recall_curve(_gt, _pred)\n",
    "disp = PrecisionRecallDisplay(precision, recall)\n",
    "disp.plot()\n",
    "plt.show()"
   ]
  },
  {
   "attachments": {},
   "cell_type": "markdown",
   "metadata": {},
   "source": [
    "Manual **For Loop**"
   ]
  },
  {
   "cell_type": "code",
   "execution_count": 4,
   "metadata": {},
   "outputs": [],
   "source": [
    "# globals().pop('customGraph')\n",
    "from model import FeatureExtractor, Matcher, customGraph\n"
   ]
  },
  {
   "cell_type": "code",
   "execution_count": 5,
   "metadata": {},
   "outputs": [],
   "source": [
    "dataset_path = \"./Datasets/NC_reduced/Image/Image/\"\n",
    "fx = FeatureExtractor('resnet').to(device)\n",
    "mx = Matcher().to(device)"
   ]
  },
  {
   "cell_type": "code",
   "execution_count": 6,
   "metadata": {},
   "outputs": [],
   "source": [
    "def read_img(img_path):\n",
    "    return transforms.ToTensor()(Image.open(img_path)).unsqueeze(0)"
   ]
  },
  {
   "cell_type": "code",
   "execution_count": 32,
   "metadata": {},
   "outputs": [
    {
     "name": "stderr",
     "output_type": "stream",
     "text": [
      "394it [00:11, 34.79it/s]\n"
     ]
    }
   ],
   "source": [
    "graph = customGraph().to(device)\n",
    "time_complexity = []\n",
    "start = torch.cuda.Event(enable_timing=True)\n",
    "end = torch.cuda.Event(enable_timing=True)\n",
    "for n, i in tqdm(enumerate(sorted(os.listdir(dataset_path)))):\n",
    "    start.record()\n",
    "    img = read_img(opj(dataset_path, i)).to(device)\n",
    "    features = fx(img)\n",
    "    if graph.num_nodes == 0:\n",
    "        graph.add_node(features)\n",
    "    else:\n",
    "        features = fx(img)\n",
    "        match_score = mx(graph.x , features).detach().cpu()\n",
    "        graph.add_node(features, range(n), match_score)\n",
    "    end.record()\n",
    "    time_complexity.append(start.elapsed_time(end))"
   ]
  },
  {
   "cell_type": "code",
   "execution_count": 34,
   "metadata": {},
   "outputs": [
    {
     "data": {
      "text/plain": [
       "[<matplotlib.lines.Line2D at 0x7f4435618370>]"
      ]
     },
     "execution_count": 34,
     "metadata": {},
     "output_type": "execute_result"
    },
    {
     "data": {
      "image/png": "[encoded data removed]",
      "text/plain": [
       "<Figure size 640x480 with 1 Axes>"
      ]
     },
     "metadata": {},
     "output_type": "display_data"
    }
   ],
   "source": [
    "plt.plot(range(394), time_complexity)"
   ]
  },
  {
   "cell_type": "code",
   "execution_count": 27,
   "metadata": {},
   "outputs": [],
   "source": [
    "edge_index = graph.edge_index.detach().cpu().numpy()\n",
    "data = graph.edge_attr.detach().cpu().numpy()\n",
    "pred = dense_edge(edge_index, data.squeeze())\n",
    "gt = scipy.io.loadmat(opj('./Datasets/NC_reduced/', 'gt.mat'))['truth'].astype(bool).T\n",
    "gt = gt - np.eye(len(gt))"
   ]
  },
  {
   "cell_type": "code",
   "execution_count": 29,
   "metadata": {},
   "outputs": [
    {
     "data": {
      "image/png": "[encoded data removed]",
      "text/plain": [
       "<Figure size 640x480 with 1 Axes>"
      ]
     },
     "metadata": {},
     "output_type": "display_data"
    }
   ],
   "source": [
    "from sklearn.metrics import PrecisionRecallDisplay, precision_recall_curve\n",
    "\n",
    "precision, recall, _ = precision_recall_curve(gt.flatten(), pred.flatten())\n",
    "disp = PrecisionRecallDisplay(precision, recall)\n",
    "disp.plot()\n",
    "plt.show()"
   ]
  },
  {
   "cell_type": "code",
   "execution_count": null,
   "metadata": {},
   "outputs": [],
   "source": []
  },
  {
   "attachments": {},
   "cell_type": "markdown",
   "metadata": {},
   "source": [
    "Experimental"
   ]
  },
  {
   "cell_type": "code",
   "execution_count": null,
   "metadata": {},
   "outputs": [],
   "source": [
    "# 394 * 394 / 32"
   ]
  },
  {
   "cell_type": "code",
   "execution_count": null,
   "metadata": {},
   "outputs": [],
   "source": [
    "plt.imshow(dd.x[0].detach().cpu().permute(1,2,0).numpy())"
   ]
  },
  {
   "cell_type": "code",
   "execution_count": null,
   "metadata": {},
   "outputs": [],
   "source": [
    "batch #33*33\n",
    "\n",
    "# plt.imshow(pred)"
   ]
  },
  {
   "cell_type": "code",
   "execution_count": null,
   "metadata": {},
   "outputs": [],
   "source": [
    "batch.edge_index"
   ]
  },
  {
   "cell_type": "code",
   "execution_count": null,
   "metadata": {},
   "outputs": [],
   "source": [
    "batch.node_id"
   ]
  },
  {
   "cell_type": "code",
   "execution_count": null,
   "metadata": {},
   "outputs": [],
   "source": [
    "G = np.zeros(temp.shape,dtype=np.bool_)\n",
    "G[ix] = True\n",
    "G"
   ]
  },
  {
   "cell_type": "code",
   "execution_count": null,
   "metadata": {},
   "outputs": [],
   "source": [
    "pred[(u,v)] = p.detach().cpu().numpy().flatten()"
   ]
  },
  {
   "cell_type": "code",
   "execution_count": null,
   "metadata": {},
   "outputs": [],
   "source": [
    "plt.imshow(pred)"
   ]
  },
  {
   "cell_type": "code",
   "execution_count": null,
   "metadata": {},
   "outputs": [],
   "source": [
    "fig, ax = plt.subplots(1,2)\n",
    "ax[0].imshow(gt)\n",
    "ax[1].imshow(res)"
   ]
  },
  {
   "cell_type": "code",
   "execution_count": null,
   "metadata": {},
   "outputs": [],
   "source": [
    "from sklearn.metrics import PrecisionRecallDisplay, precision_recall_curve\n",
    "\n",
    "precision, recall, _ = precision_recall_curve(gt.flatten(), res.flatten().numpy(),)\n",
    "disp = PrecisionRecallDisplay(precision, recall)\n",
    "disp.plot()\n",
    "plt.show()"
   ]
  },
  {
   "cell_type": "code",
   "execution_count": null,
   "metadata": {},
   "outputs": [],
   "source": [
    "data.view()"
   ]
  },
  {
   "cell_type": "code",
   "execution_count": null,
   "metadata": {},
   "outputs": [],
   "source": [
    "torch.tensor(np.random.randint(0,2,(2,2)), dtype=torch.bool)"
   ]
  },
  {
   "cell_type": "code",
   "execution_count": 3,
   "metadata": {},
   "outputs": [
    {
     "name": "stderr",
     "output_type": "stream",
     "text": [
      "Failed to detect the name of this notebook, you can set it manually with the WANDB_NOTEBOOK_NAME environment variable to enable code saving.\n",
      "\u001b[34m\u001b[1mwandb\u001b[0m: Currently logged in as: \u001b[33mabhi_khoyani\u001b[0m. Use \u001b[1m`wandb login --relogin`\u001b[0m to force relogin\n"
     ]
    },
    {
     "data": {
      "text/html": [
       "wandb version 0.13.10 is available!  To upgrade, please run:\n",
       " $ pip install wandb --upgrade"
      ],
      "text/plain": [
       "<IPython.core.display.HTML object>"
      ]
     },
     "metadata": {},
     "output_type": "display_data"
    },
    {
     "data": {
      "text/html": [
       "Tracking run with wandb version 0.13.7"
      ],
      "text/plain": [
       "<IPython.core.display.HTML object>"
      ]
     },
     "metadata": {},
     "output_type": "display_data"
    },
    {
     "data": {
      "text/html": [
       "Run data is saved locally in <code>/home/abhishekkhoyani/LCD/wandb/run-20230213_181727-w1fg26sv</code>"
      ],
      "text/plain": [
       "<IPython.core.display.HTML object>"
      ]
     },
     "metadata": {},
     "output_type": "display_data"
    },
    {
     "data": {
      "text/html": [
       "Syncing run <strong><a href=\"https://wandb.ai/abhi_khoyani/LCD/runs/w1fg26sv\" target=\"_blank\">restful-snow-1</a></strong> to <a href=\"https://wandb.ai/abhi_khoyani/LCD\" target=\"_blank\">Weights & Biases</a> (<a href=\"https://wandb.me/run\" target=\"_blank\">docs</a>)<br/>"
      ],
      "text/plain": [
       "<IPython.core.display.HTML object>"
      ]
     },
     "metadata": {},
     "output_type": "display_data"
    }
   ],
   "source": [
    "import wandb\n",
    "run = wandb.init(project = \"LCD\", entity = \"abhi_khoyani\")"
   ]
  },
  {
   "cell_type": "code",
   "execution_count": null,
   "metadata": {},
   "outputs": [],
   "source": [
    "gg = np.random.random((256, 256))"
   ]
  },
  {
   "cell_type": "code",
   "execution_count": null,
   "metadata": {},
   "outputs": [],
   "source": [
    "gg.dtype"
   ]
  },
  {
   "cell_type": "code",
   "execution_count": null,
   "metadata": {},
   "outputs": [],
   "source": [
    "plt.imshow(gg)"
   ]
  },
  {
   "cell_type": "code",
   "execution_count": 4,
   "metadata": {},
   "outputs": [],
   "source": [
    "from load_dataset import load_dataset\n",
    "data = load_dataset('NC_reduced')"
   ]
  },
  {
   "cell_type": "code",
   "execution_count": 5,
   "metadata": {},
   "outputs": [
    {
     "data": {
      "text/plain": [
       "<matplotlib.image.AxesImage at 0x7f4d283d97f0>"
      ]
     },
     "execution_count": 5,
     "metadata": {},
     "output_type": "execute_result"
    },
    {
     "data": {
      "image/png": "[encoded data removed]",
      "text/plain": [
       "<Figure size 640x480 with 1 Axes>"
      ]
     },
     "metadata": {},
     "output_type": "display_data"
    }
   ],
   "source": [
    "gt = data.edge_attr\n",
    "gt = dense_edge(data.edge_index, gt.squeeze())\n",
    "plt.imshow(gt)"
   ]
  },
  {
   "cell_type": "code",
   "execution_count": 6,
   "metadata": {},
   "outputs": [
    {
     "data": {
      "text/plain": [
       "array([[ True, False, False, ..., False, False, False],\n",
       "       [False,  True, False, ..., False, False, False],\n",
       "       [False, False,  True, ..., False, False, False],\n",
       "       ...,\n",
       "       [False, False, False, ...,  True, False, False],\n",
       "       [False, False, False, ..., False,  True, False],\n",
       "       [False, False, False, ..., False, False, False]])"
      ]
     },
     "execution_count": 6,
     "metadata": {},
     "output_type": "execute_result"
    }
   ],
   "source": []
  },
  {
   "cell_type": "code",
   "execution_count": 34,
   "metadata": {},
   "outputs": [
    {
     "data": {
      "text/plain": [
       "<matplotlib.image.AxesImage at 0x7f47804bbd00>"
      ]
     },
     "execution_count": 34,
     "metadata": {},
     "output_type": "execute_result"
    },
    {
     "data": {
      "image/png": "[encoded data removed]",
      "text/plain": [
       "<Figure size 640x480 with 1 Axes>"
      ]
     },
     "metadata": {},
     "output_type": "display_data"
    }
   ],
   "source": [
    "plt.imshow(gt.astype(np.uint8)*255)"
   ]
  },
  {
   "cell_type": "code",
   "execution_count": 38,
   "metadata": {},
   "outputs": [],
   "source": [
    "gt = gt.astype(np.uint8)*255"
   ]
  },
  {
   "cell_type": "code",
   "execution_count": 42,
   "metadata": {},
   "outputs": [],
   "source": [
    "wandb.log({\"img_0bool\":wandb.Image(gt)})"
   ]
  },
  {
   "cell_type": "code",
   "execution_count": 43,
   "metadata": {},
   "outputs": [
    {
     "data": {
      "text/plain": [
       "array([[False, False, False, ..., False, False, False],\n",
       "       [False, False, False, ..., False, False, False],\n",
       "       [False, False, False, ..., False, False, False],\n",
       "       ...,\n",
       "       [False, False, False, ..., False, False, False],\n",
       "       [False, False, False, ..., False, False, False],\n",
       "       [False, False, False, ..., False, False, False]])"
      ]
     },
     "execution_count": 43,
     "metadata": {},
     "output_type": "execute_result"
    }
   ],
   "source": [
    "gt"
   ]
  },
  {
   "cell_type": "code",
   "execution_count": 48,
   "metadata": {},
   "outputs": [],
   "source": [
    "gg = np.random.uniform(0,1,(256,256)).astype(np.float64)\n",
    "# pred = np.random.randint(0,2,(15,1))\n",
    "# pred = np.vstack((1-pred[:, 0], pred[:,0])).T\n",
    "# pred.shape"
   ]
  },
  {
   "cell_type": "code",
   "execution_count": null,
   "metadata": {},
   "outputs": [],
   "source": [
    "x = torch.randn((1, 1), requires_grad=True)\n",
    "with torch.autograd.profiler.profile() as prof:\n",
    "    for _ in range(100):  # any normal python code, really!\n",
    "        y = x ** 2\n",
    "        y.backward()\n",
    "# NOTE: some columns were removed for brevity\n",
    "print(prof.key_averages().table(sort_by=\"self_cpu_time_total\"))"
   ]
  },
  {
   "cell_type": "code",
   "execution_count": 67,
   "metadata": {},
   "outputs": [],
   "source": [
    "wandb.run.summary['CPU'] = prof.self_cpu_time_total"
   ]
  },
  {
   "cell_type": "code",
   "execution_count": 69,
   "metadata": {},
   "outputs": [
    {
     "data": {
      "text/html": [
       "Waiting for W&B process to finish... <strong style=\"color:green\">(success).</strong>"
      ],
      "text/plain": [
       "<IPython.core.display.HTML object>"
      ]
     },
     "metadata": {},
     "output_type": "display_data"
    },
    {
     "data": {
      "text/html": [
       "<style>\n",
       "    table.wandb td:nth-child(1) { padding: 0 10px; text-align: left ; width: auto;} td:nth-child(2) {text-align: left ; width: 100%}\n",
       "    .wandb-row { display: flex; flex-direction: row; flex-wrap: wrap; justify-content: flex-start; width: 100% }\n",
       "    .wandb-col { display: flex; flex-direction: column; flex-basis: 100%; flex: 1; padding: 10px; }\n",
       "    </style>\n",
       "<div class=\"wandb-row\"><div class=\"wandb-col\"><h3>Run summary:</h3><br/><table class=\"wandb\"><tr><td>CPU</td><td>8488</td></tr></table><br/></div></div>"
      ],
      "text/plain": [
       "<IPython.core.display.HTML object>"
      ]
     },
     "metadata": {},
     "output_type": "display_data"
    },
    {
     "data": {
      "text/html": [
       "Synced <strong style=\"color:#cdcd00\">restful-snow-1</strong>: <a href=\"https://wandb.ai/abhi_khoyani/LCD/runs/w1fg26sv\" target=\"_blank\">https://wandb.ai/abhi_khoyani/LCD/runs/w1fg26sv</a><br/>Synced 5 W&B file(s), 4 media file(s), 1 artifact file(s) and 0 other file(s)"
      ],
      "text/plain": [
       "<IPython.core.display.HTML object>"
      ]
     },
     "metadata": {},
     "output_type": "display_data"
    },
    {
     "data": {
      "text/html": [
       "Find logs at: <code>./wandb/run-20230213_181727-w1fg26sv/logs</code>"
      ],
      "text/plain": [
       "<IPython.core.display.HTML object>"
      ]
     },
     "metadata": {},
     "output_type": "display_data"
    }
   ],
   "source": [
    "wandb.finish()"
   ]
  },
  {
   "cell_type": "code",
   "execution_count": null,
   "metadata": {},
   "outputs": [],
   "source": [
    "# Create a table with the columns to plot\n",
    "table = wandb.Table(data=np.random.randint(0,10,(256, 256)),\n",
    "                    columns=list(range(256)))\n",
    "\n",
    "# # Map from the table's columns to the chart's fields\n",
    "# fields = {\"x\": \"step\",\n",
    "#           \"value\": \"height\"}\n",
    "\n",
    "# # Use the table to populate the new custom chart preset\n",
    "# # To use your own saved chart preset, change the vega_spec_name\n",
    "# my_custom_chart = wandb.plot_table(\n",
    "#     vega_spec_name=\"carey/new_chart\",\n",
    "#     data_table=table,\n",
    "#     fields=fields)"
   ]
  },
  {
   "cell_type": "code",
   "execution_count": 59,
   "metadata": {},
   "outputs": [],
   "source": [
    "gt = np.random.randint(0,2,(256*256, ))\n",
    "pred = np.random.uniform(0,1,(256, 256))\n",
    "\n",
    "gt = np.expand_dims(gt.flatten(), -1)\n",
    "pred = np.expand_dims(pred.flatten(), -1)\n",
    "pred =  np.vstack([1 - pred[:,0], pred[:,0]]).T\n",
    "wandb.log({\"PR curve\":wandb.plot.pr_curve(gt, pred, labels = [0,1])})"
   ]
  },
  {
   "cell_type": "code",
   "execution_count": 58,
   "metadata": {},
   "outputs": [
    {
     "data": {
      "text/plain": [
       "(65536, 1)"
      ]
     },
     "execution_count": 58,
     "metadata": {},
     "output_type": "execute_result"
    }
   ],
   "source": [
    "gt.shape"
   ]
  },
  {
   "cell_type": "code",
   "execution_count": null,
   "metadata": {},
   "outputs": [],
   "source": [
    "wandb.log({\"PR curve\":wandb.plots.HeatMap(list(range(256)), list(range(256)),np.random.randint(0,10,(256,256)))})"
   ]
  },
  {
   "cell_type": "code",
   "execution_count": null,
   "metadata": {
    "vscode": {
     "languageId": "latex"
    }
   },
   "outputs": [],
   "source": []
  }
 ],
 "metadata": {
  "kernelspec": {
   "display_name": "torch",
   "language": "python",
   "name": "torch"
  },
  "language_info": {
   "codemirror_mode": {
    "name": "ipython",
    "version": 3
   },
   "file_extension": ".py",
   "mimetype": "text/x-python",
   "name": "python",
   "nbconvert_exporter": "python",
   "pygments_lexer": "ipython3",
   "version": "3.8.10"
  },
  "orig_nbformat": 4,
  "vscode": {
   "interpreter": {
    "hash": "04d755b6eeea752f625a688e0dfdf708f0b1aee27ed14d3628db1b10e622f26d"
   }
  }
 },
 "nbformat": 4,
 "nbformat_minor": 2
}
